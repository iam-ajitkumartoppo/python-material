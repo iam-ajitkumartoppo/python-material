{
 "cells": [
  {
   "cell_type": "markdown",
   "id": "1d2eb8b6",
   "metadata": {},
   "source": [
    "<h2><p style=\"color: blue;\"><u>Almabetter Plain Python Coding Assessments"
   ]
  },
  {
   "cell_type": "markdown",
   "id": "971952e2",
   "metadata": {},
   "source": [
    "<h4>Q1.Swap two numbers(Easy)<br>\n",
    "Write a Python program to swap two number without using third variable.<br>\n",
    "-------------------------------------------------------------------------------<br>\n",
    "Example 1:<br>\n",
    "Input:<br>\n",
    "a=9<br>\n",
    "b=2<br>\n",
    "\n",
    "Output:<br>\n",
    "value of a is : 9<br>\n",
    "value of b is : 2<br>\n",
    "\n",
    "After swapping<br>\n",
    "value of a is : 2<br>\n",
    "value of b is : 9<br>"
   ]
  },
  {
   "cell_type": "code",
   "execution_count": 1,
   "id": "1a9eb1c3",
   "metadata": {},
   "outputs": [
    {
     "name": "stdout",
     "output_type": "stream",
     "text": [
      "a=9\n",
      "b=2\n",
      "value of a is : 9\n",
      "value of b is : 2\n",
      "After swapping\n",
      "value of a is: 2\n",
      "value of b is: 9\n"
     ]
    }
   ],
   "source": [
    "a=int(input(\"a=\"))\n",
    "b=int(input(\"b=\"))\n",
    "print(\"value of a is :\",a)\n",
    "print(\"value of b is :\",b)\n",
    "a, b = b, a\n",
    "print(\"After swapping\")\n",
    "print(\"value of a is:\",a)\n",
    "print(\"value of b is:\",b)"
   ]
  },
  {
   "cell_type": "markdown",
   "id": "4f715027",
   "metadata": {},
   "source": [
    "<h4>Q2.Perfect Number(Easy)<br>\n",
    "Write a python program to check a given number is perfect or not.<br>\n",
    "Note: A perfect number is a positive integer that is equal to the sum of its positive divisors, excluding the number itself.Lets understand it with example:<br>\n",
    "\n",
    "6 is a positive number and its divisor is 1,2,3 and 6 itself.\n",
    "But we should not include 6 as by the definition of perfect number.\n",
    "Lets add its divisor excluding itself<br>\n",
    "1+2+3 = 6 which is equal to number itself.<br>\n",
    "It means 6 is a Perfect Number.<br>\n",
    "-------------------------------------------------------------------<br>\n",
    "Example 1:<br>\n",
    "Input:<br>\n",
    "28\n",
    "Output:<br>\n",
    "It is Perfect Number<br>\n",
    "---------------------------------------------------------------<br>\n",
    "Example 2:<br>\n",
    "Input:<br>\n",
    "1256488<br>\n",
    "Output:<br>\n",
    "It is not Perfect Number<br>"
   ]
  },
  {
   "cell_type": "code",
   "execution_count": 2,
   "id": "3188388a",
   "metadata": {},
   "outputs": [
    {
     "name": "stdout",
     "output_type": "stream",
     "text": [
      "28\n",
      "It is Perfect Number\n"
     ]
    }
   ],
   "source": [
    "num = int(input())\n",
    "sum = 0\n",
    "for i in range (1, num):\n",
    "    if num%i == 0:\n",
    "        sum = sum+i\n",
    "if num == sum:\n",
    "    print(\"It is Perfect Number\")\n",
    "else:\n",
    "    print(\"It is not Perfect Number\")"
   ]
  },
  {
   "cell_type": "markdown",
   "id": "b43134fb",
   "metadata": {},
   "source": [
    "<h4>Q3.String Palindrome(Easy)<br>\n",
    "Write a Python program to check whether a String is Palindrome or not?<br>\n",
    "Example 1:<br>\n",
    "Input:<br>\n",
    "madam<br>\n",
    "Output:<br>\n",
    "String is a Palindrome<br>"
   ]
  },
  {
   "cell_type": "code",
   "execution_count": 3,
   "id": "7a132b37",
   "metadata": {},
   "outputs": [
    {
     "name": "stdout",
     "output_type": "stream",
     "text": [
      "radar\n",
      "String is a Palindrome\n"
     ]
    }
   ],
   "source": [
    "def is_palindrome(s):\n",
    "    return s == s[::-1]\n",
    "\n",
    "s = input()\n",
    "ans = is_palindrome(s)\n",
    " \n",
    "if ans:\n",
    "    print(\"String is a Palindrome\")\n",
    "else:\n",
    "    print(\"String is not a Palindrome\")"
   ]
  },
  {
   "cell_type": "markdown",
   "id": "9df6da8f",
   "metadata": {},
   "source": [
    "<h4>Q4.Remove char from string(Easy)<br>\n",
    "Write a python program to remove a given character from string.<br>\n",
    "For Example:<br>\n",
    "Input String: Quescol<br>\n",
    "Input Character : e<br>\n",
    "Output: Quscol (After removing ‘e’)<br>\n",
    "----------------------------------------------------<br>\n",
    "Example 1:<br>\n",
    "Input:<br>\n",
    "AlmaBetter<br>\n",
    "t<br>\n",
    "Output:<br>\n",
    "almabe er<br>"
   ]
  },
  {
   "cell_type": "code",
   "execution_count": 4,
   "id": "04ef744b",
   "metadata": {},
   "outputs": [
    {
     "name": "stdout",
     "output_type": "stream",
     "text": [
      "please enter a string : Almabetter\n",
      "please enter a character : e\n",
      "almab tt r\n"
     ]
    }
   ],
   "source": [
    "stri = input(\"please enter a string : \")\n",
    "ch = input(\"please enter a character : \")\n",
    "out = stri.replace(ch,\" \")\n",
    "print(out.lower()) "
   ]
  },
  {
   "cell_type": "markdown",
   "id": "7f281b7d",
   "metadata": {},
   "source": [
    "<h4>Q5.Find last position of substring(Easy)<br>\n",
    "Write a python program to find the last position of a given substring.<br>\n",
    "----------------------------------------------------------------------------<br>\n",
    "Example 1:<br>\n",
    "Input:<br>\n",
    "Emma is a data scientist who knows Python. Emma works at google.<br>\n",
    "Emma<br>\n",
    "Output:<br>\n",
    "Last occurrence of Emma starts at index 43<br>"
   ]
  },
  {
   "cell_type": "code",
   "execution_count": 5,
   "id": "53c075c9",
   "metadata": {},
   "outputs": [
    {
     "name": "stdout",
     "output_type": "stream",
     "text": [
      "this notebook is created by me\n",
      "is\n",
      "Last occurrence of is starts at index 14\n"
     ]
    }
   ],
   "source": [
    "test_string = input()\n",
    "tar_word = input()\n",
    "res = test_string.rindex(tar_word)\n",
    "\n",
    "print(\"Last occurrence of \"+ str(tar_word) +\" starts at index \"+str(res))"
   ]
  },
  {
   "cell_type": "code",
   "execution_count": null,
   "id": "bbfc2e98",
   "metadata": {},
   "outputs": [],
   "source": []
  }
 ],
 "metadata": {
  "kernelspec": {
   "display_name": "Python 3 (ipykernel)",
   "language": "python",
   "name": "python3"
  },
  "language_info": {
   "codemirror_mode": {
    "name": "ipython",
    "version": 3
   },
   "file_extension": ".py",
   "mimetype": "text/x-python",
   "name": "python",
   "nbconvert_exporter": "python",
   "pygments_lexer": "ipython3",
   "version": "3.9.7"
  }
 },
 "nbformat": 4,
 "nbformat_minor": 5
}
